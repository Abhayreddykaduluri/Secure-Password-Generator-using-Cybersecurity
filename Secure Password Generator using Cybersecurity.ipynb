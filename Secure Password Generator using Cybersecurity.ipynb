{
 "cells": [
  {
   "cell_type": "code",
   "execution_count": 26,
   "id": "dd89f757-b157-498f-a9d0-7e3179a57dcd",
   "metadata": {},
   "outputs": [
    {
     "name": "stdout",
     "output_type": "stream",
     "text": [
      "Your secure password: _*MV7Q~^rS4b\n"
     ]
    }
   ],
   "source": [
    "import secrets\n",
    "import string\n",
    "\n",
    "def generate_password(length=16, require_upper=True, require_lower=True, \n",
    "                     require_digits=True, require_special=True, exclude_chars=''):\n",
    "    char_sets = {\n",
    "        'lower': string.ascii_lowercase,\n",
    "        'upper': string.ascii_uppercase,\n",
    "        'digits': string.digits,\n",
    "        'special': string.punctuation\n",
    "    }\n",
    "    for char in exclude_chars:\n",
    "        for category in char_sets:\n",
    "            char_sets[category] = char_sets[category].replace(char, '')\n",
    "    allowed_chars = []\n",
    "    if require_lower: allowed_chars.append(char_sets['lower'])\n",
    "    if require_upper: allowed_chars.append(char_sets['upper'])\n",
    "    if require_digits: allowed_chars.append(char_sets['digits'])\n",
    "    if require_special: allowed_chars.append(char_sets['special'])\n",
    "    \n",
    "    if not allowed_chars:\n",
    "        raise ValueError(\"No character sets selected!\")\n",
    "    \n",
    "    allowed_chars = ''.join(allowed_chars)\n",
    "    \n",
    "    while True:\n",
    "        password = ''.join(secrets.choice(allowed_chars) for _ in range(length))\n",
    "        checks = []\n",
    "        if require_lower: checks.append(any(c in char_sets['lower'] for c in password))\n",
    "        if require_upper: checks.append(any(c in char_sets['upper'] for c in password))\n",
    "        if require_digits: checks.append(any(c in char_sets['digits'] for c in password))\n",
    "        if require_special: checks.append(any(c in char_sets['special'] for c in password))\n",
    "        \n",
    "        if all(checks):\n",
    "            return password\n",
    "print(\"Your secure password:\", generate_password(length=12))"
   ]
  },
  {
   "cell_type": "code",
   "execution_count": null,
   "id": "7302a8de-d092-4335-a3ae-485f421103d9",
   "metadata": {},
   "outputs": [],
   "source": []
  },
  {
   "cell_type": "code",
   "execution_count": null,
   "id": "7e66ee65-6c14-45ad-a607-317de6b1370d",
   "metadata": {},
   "outputs": [],
   "source": []
  }
 ],
 "metadata": {
  "kernelspec": {
   "display_name": "Python 3 (ipykernel)",
   "language": "python",
   "name": "python3"
  },
  "language_info": {
   "codemirror_mode": {
    "name": "ipython",
    "version": 3
   },
   "file_extension": ".py",
   "mimetype": "text/x-python",
   "name": "python",
   "nbconvert_exporter": "python",
   "pygments_lexer": "ipython3",
   "version": "3.12.4"
  }
 },
 "nbformat": 4,
 "nbformat_minor": 5
}
